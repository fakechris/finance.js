{
 "cells": [
  {
   "cell_type": "code",
   "execution_count": 1,
   "metadata": {},
   "outputs": [],
   "source": [
    "from finance import *"
   ]
  },
  {
   "cell_type": "code",
   "execution_count": 2,
   "metadata": {},
   "outputs": [],
   "source": [
    "yp = YPlans(48)\n",
    "mon = -1\n",
    "\n",
    "def add_mon(yp, mon):\n",
    "    mon += 1\n",
    "    yp.add(mon, 2000000, 0, 0, 0.011, 12, 0, 0, irr_to_month_rate(12, 0.1095), 12)\n",
    "    yp.add(mon, 4000000, 0.011, 6, 0.011, 12, 0.1095/12, 6, irr_to_month_rate(12, 0.1095), 12)\n",
    "    yp.add(mon, 4000000, 0.01, 6, 0.01, 12, 0.1095/12, 6, irr_to_month_rate(12, 0.1095), 12)\n",
    "    return mon\n",
    "    \n",
    "mon = add_mon(yp, mon)\n",
    "mon = add_mon(yp, mon)\n",
    "mon = add_mon(yp, mon)\n",
    "mon = add_mon(yp, mon)\n",
    "mon = add_mon(yp, mon)\n",
    "mon = add_mon(yp, mon)\n",
    "mon = add_mon(yp, mon)\n",
    "mon = add_mon(yp, mon)\n",
    "mon = add_mon(yp, mon)\n",
    "mon = add_mon(yp, mon)\n",
    "mon = add_mon(yp, mon)\n",
    "mon = add_mon(yp, mon)\n",
    "\n",
    "mon = add_mon(yp, mon)\n",
    "mon = add_mon(yp, mon)\n",
    "mon = add_mon(yp, mon)\n",
    "mon = add_mon(yp, mon)\n",
    "mon = add_mon(yp, mon)\n",
    "mon = add_mon(yp, mon)\n",
    "mon = add_mon(yp, mon)\n",
    "mon = add_mon(yp, mon)\n",
    "mon = add_mon(yp, mon)\n",
    "mon = add_mon(yp, mon)\n",
    "mon = add_mon(yp, mon)\n",
    "mon = add_mon(yp, mon)\n",
    "\n",
    "mon = add_mon(yp, mon)\n",
    "mon = add_mon(yp, mon)\n",
    "mon = add_mon(yp, mon)\n",
    "mon = add_mon(yp, mon)\n",
    "mon = add_mon(yp, mon)\n",
    "mon = add_mon(yp, mon)\n",
    "mon = add_mon(yp, mon)\n",
    "mon = add_mon(yp, mon)\n",
    "mon = add_mon(yp, mon)\n",
    "mon = add_mon(yp, mon)\n",
    "mon = add_mon(yp, mon)\n",
    "mon = add_mon(yp, mon)\n",
    "\n",
    "mon = add_mon(yp, mon)\n",
    "mon = add_mon(yp, mon)\n",
    "mon = add_mon(yp, mon)\n",
    "mon = add_mon(yp, mon)\n",
    "mon = add_mon(yp, mon)\n",
    "mon = add_mon(yp, mon)\n",
    "mon = add_mon(yp, mon)\n",
    "mon = add_mon(yp, mon)\n",
    "mon = add_mon(yp, mon)\n",
    "mon = add_mon(yp, mon)\n",
    "mon = add_mon(yp, mon)\n",
    "mon = add_mon(yp, mon)\n",
    "\n",
    "yp.merge()"
   ]
  },
  {
   "cell_type": "code",
   "execution_count": 3,
   "metadata": {},
   "outputs": [
    {
     "data": {
      "text/plain": [
       "[-10000000,\n",
       " -10000000,\n",
       " -10000000,\n",
       " -10000000,\n",
       " -10000000,\n",
       " -10000000,\n",
       " -10000000,\n",
       " -10000000,\n",
       " -10000000,\n",
       " -10000000,\n",
       " -10000000,\n",
       " -10000000,\n",
       " -10000000,\n",
       " -10000000,\n",
       " -10000000,\n",
       " -10000000,\n",
       " -10000000,\n",
       " -10000000,\n",
       " -10000000,\n",
       " -10000000,\n",
       " -10000000,\n",
       " -10000000,\n",
       " -10000000,\n",
       " -10000000,\n",
       " -10000000,\n",
       " -10000000,\n",
       " -10000000,\n",
       " -10000000,\n",
       " -10000000,\n",
       " -10000000,\n",
       " -10000000,\n",
       " -10000000,\n",
       " -10000000,\n",
       " -10000000,\n",
       " -10000000,\n",
       " -10000000,\n",
       " -10000000,\n",
       " -10000000,\n",
       " -10000000,\n",
       " -10000000,\n",
       " -10000000,\n",
       " -10000000,\n",
       " -10000000,\n",
       " -10000000,\n",
       " -10000000,\n",
       " -10000000,\n",
       " -10000000,\n",
       " -10000000]"
      ]
     },
     "execution_count": 3,
     "metadata": {},
     "output_type": "execute_result"
    }
   ],
   "source": [
    "yp.principles"
   ]
  },
  {
   "cell_type": "code",
   "execution_count": 4,
   "metadata": {},
   "outputs": [
    {
     "data": {
      "text/plain": [
       "array([     0.        ,  22949.99133158,  45899.98266317,  68849.97399475,\n",
       "        91799.96532633, 114749.95665792, 137699.9479895 , 193449.90464742,\n",
       "       249199.86130534, 304949.81796326, 360699.77462118, 416449.7312791 ,\n",
       "       472199.68793701, 515999.65326335, 559799.61858968, 603599.58391602,\n",
       "       647399.54924235, 691199.51456869, 734999.47989502, 734999.47989502,\n",
       "       734999.47989502, 734999.47989502, 734999.47989502, 734999.47989502,\n",
       "       734999.47989502, 734999.47989502, 734999.47989502, 734999.47989502,\n",
       "       734999.47989502, 734999.47989502, 734999.47989502, 734999.47989502,\n",
       "       734999.47989502, 734999.47989502, 734999.47989502, 734999.47989502,\n",
       "       734999.47989502, 734999.47989502, 734999.47989502, 734999.47989502,\n",
       "       734999.47989502, 734999.47989502, 734999.47989502, 734999.47989502,\n",
       "       734999.47989502, 734999.47989502, 734999.47989502, 734999.47989502,\n",
       "       734999.47989502, 712049.48856344, 689099.49723186, 666149.50590027,\n",
       "       643199.51456869, 620249.52323711, 597299.53190552, 541549.5752476 ,\n",
       "       485799.61858968, 430049.66193177, 374299.70527385, 318549.74861593,\n",
       "       262799.79195801, 218999.82663167, 175199.86130534, 131399.895979  ,\n",
       "        87599.93065267,  43799.96532633])"
      ]
     },
     "execution_count": 4,
     "metadata": {},
     "output_type": "execute_result"
    }
   ],
   "source": [
    "yp.merge_rev"
   ]
  },
  {
   "cell_type": "code",
   "execution_count": 5,
   "metadata": {},
   "outputs": [
    {
     "data": {
      "text/plain": [
       "array([-1.00000000e+07, -1.98103833e+07, -2.94311500e+07, -3.88623001e+07,\n",
       "       -4.81038334e+07, -5.71557501e+07, -6.60180502e+07, -7.39912669e+07,\n",
       "       -8.10754004e+07, -8.72704506e+07, -9.25764175e+07, -9.69933011e+07,\n",
       "       -1.00521101e+08, -1.03338435e+08, -1.05445302e+08, -1.06841703e+08,\n",
       "       -1.07527636e+08, -1.07503103e+08, -1.06768104e+08, -1.06033105e+08,\n",
       "       -1.05298105e+08, -1.04563106e+08, -1.03828106e+08, -1.03093107e+08,\n",
       "       -1.02358107e+08, -1.01623108e+08, -1.00888108e+08, -1.00153109e+08,\n",
       "       -9.94181092e+07, -9.86831097e+07, -9.79481102e+07, -9.72131108e+07,\n",
       "       -9.64781113e+07, -9.57431118e+07, -9.50081123e+07, -9.42731128e+07,\n",
       "       -9.35381134e+07, -9.28031139e+07, -9.20681144e+07, -9.13331149e+07,\n",
       "       -9.05981154e+07, -8.98631160e+07, -8.91281165e+07, -8.83931170e+07,\n",
       "       -8.76581175e+07, -8.69231180e+07, -8.61881186e+07, -8.54531191e+07,\n",
       "       -7.47181196e+07, -6.41727368e+07, -5.38169706e+07, -4.36508211e+07,\n",
       "       -3.36742883e+07, -2.38873721e+07, -1.42900725e+07, -5.58185630e+06,\n",
       "        2.23727665e+06,  9.16732631e+06,  1.52082927e+07,  2.03601758e+07,\n",
       "        2.46229756e+07,  2.81753087e+07,  3.10171752e+07,  3.31485751e+07,\n",
       "        3.45695084e+07,  3.52799750e+07])"
      ]
     },
     "execution_count": 5,
     "metadata": {},
     "output_type": "execute_result"
    }
   ],
   "source": [
    "yp.total_pv"
   ]
  },
  {
   "cell_type": "code",
   "execution_count": 6,
   "metadata": {},
   "outputs": [],
   "source": [
    "import matplotlib.pyplot as plt"
   ]
  },
  {
   "cell_type": "code",
   "execution_count": 7,
   "metadata": {},
   "outputs": [
    {
     "data": {
      "text/plain": [
       "Text(0,0.5,'Merged Revenue')"
      ]
     },
     "execution_count": 7,
     "metadata": {},
     "output_type": "execute_result"
    },
    {
     "data": {
      "image/png": "[encoded data removed]",
      "text/plain": [
       "<Figure size 432x288 with 1 Axes>"
      ]
     },
     "metadata": {},
     "output_type": "display_data"
    }
   ],
   "source": [
    "plt.plot(yp.merge_rev)\n",
    "plt.ylabel('Merged Revenue')"
   ]
  },
  {
   "cell_type": "code",
   "execution_count": 8,
   "metadata": {},
   "outputs": [
    {
     "data": {
      "text/plain": [
       "Text(0,0.5,'Total PV')"
      ]
     },
     "execution_count": 8,
     "metadata": {},
     "output_type": "execute_result"
    },
    {
     "data": {
      "image/png": "[encoded data removed]",
      "text/plain": [
       "<Figure size 432x288 with 1 Axes>"
      ]
     },
     "metadata": {},
     "output_type": "display_data"
    }
   ],
   "source": [
    "plt.plot(-yp.total_pv)\n",
    "plt.ylabel('Total PV')"
   ]
  },
  {
   "cell_type": "code",
   "execution_count": 28,
   "metadata": {},
   "outputs": [
    {
     "data": {
      "text/plain": [
       "[2006698.9077795502,\n",
       " 7900194.48688725,\n",
       " 8819993.758740284,\n",
       " 8819993.758740284,\n",
       " 6813294.850960735,\n",
       " 919799.2718530336]"
      ]
     },
     "execution_count": 28,
     "metadata": {},
     "output_type": "execute_result"
    }
   ],
   "source": [
    "#import math\n",
    "#math.floor(len(yp.merge_rev) / 12)\n",
    "\n",
    "rev_years = [np.sum(arr) for arr in np.split(yp.merge_rev, list(range(12, len(yp.merge_rev), 12)))]\n",
    "rev_years"
   ]
  },
  {
   "cell_type": "code",
   "execution_count": 29,
   "metadata": {},
   "outputs": [
    {
     "data": {
      "text/plain": [
       "Text(0,0.5,'Revenue Per Year')"
      ]
     },
     "execution_count": 29,
     "metadata": {},
     "output_type": "execute_result"
    },
    {
     "data": {
      "image/png": "[encoded data removed]",
      "text/plain": [
       "<Figure size 432x288 with 1 Axes>"
      ]
     },
     "metadata": {},
     "output_type": "display_data"
    }
   ],
   "source": [
    "plt.plot(rev_years)\n",
    "plt.ylabel('Revenue Per Year')"
   ]
  },
  {
   "cell_type": "code",
   "execution_count": null,
   "metadata": {},
   "outputs": [],
   "source": []
  },
  {
   "cell_type": "code",
   "execution_count": null,
   "metadata": {},
   "outputs": [],
   "source": []
  }
 ],
 "metadata": {
  "kernelspec": {
   "display_name": "Python 3",
   "language": "python",
   "name": "python3"
  },
  "language_info": {
   "codemirror_mode": {
    "name": "ipython",
    "version": 3
   },
   "file_extension": ".py",
   "mimetype": "text/x-python",
   "name": "python",
   "nbconvert_exporter": "python",
   "pygments_lexer": "ipython3",
   "version": "3.5.2"
  }
 },
 "nbformat": 4,
 "nbformat_minor": 2
}
